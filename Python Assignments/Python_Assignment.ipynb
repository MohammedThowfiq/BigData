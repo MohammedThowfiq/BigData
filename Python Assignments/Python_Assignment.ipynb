{
  "nbformat": 4,
  "nbformat_minor": 0,
  "metadata": {
    "colab": {
      "name": "Python Assignment.ipynb",
      "provenance": []
    },
    "kernelspec": {
      "name": "python3",
      "display_name": "Python 3"
    },
    "language_info": {
      "name": "python"
    }
  },
  "cells": [
    {
      "cell_type": "markdown",
      "metadata": {
        "id": "H7H1yeP6Sgcu"
      },
      "source": [
        "**List_remove_append**"
      ]
    },
    {
      "cell_type": "code",
      "metadata": {
        "id": "FRBM8LYvRmvc"
      },
      "source": [
        "input_list = ['SAS','R','PYTHON','SPSS']"
      ],
      "execution_count": 1,
      "outputs": []
    },
    {
      "cell_type": "code",
      "metadata": {
        "colab": {
          "base_uri": "https://localhost:8080/"
        },
        "id": "yg3fhP5kSKto",
        "outputId": "c0f2651e-c2c5-4616-87e6-60c92ad1d98e"
      },
      "source": [
        "input_list.remove('SPSS')\n",
        "input_list.append('SPARK')\n",
        "input_list"
      ],
      "execution_count": 2,
      "outputs": [
        {
          "output_type": "execute_result",
          "data": {
            "text/plain": [
              "['SAS', 'R', 'PYTHON', 'SPARK']"
            ]
          },
          "metadata": {
            "tags": []
          },
          "execution_count": 2
        }
      ]
    },
    {
      "cell_type": "markdown",
      "metadata": {
        "id": "lVhd2BVTSq62"
      },
      "source": [
        "**String to List Conversion**"
      ]
    },
    {
      "cell_type": "code",
      "metadata": {
        "id": "O36UowBDSux3"
      },
      "source": [
        "input_str = 'I love Data Science & Python'"
      ],
      "execution_count": 3,
      "outputs": []
    },
    {
      "cell_type": "code",
      "metadata": {
        "colab": {
          "base_uri": "https://localhost:8080/"
        },
        "id": "BKWCf7iWS2Pu",
        "outputId": "768947d9-354f-43f0-a78d-d85d8bb1ba05"
      },
      "source": [
        "input_str_list = input_str.split(\"&\")\n",
        "input_str_list"
      ],
      "execution_count": 4,
      "outputs": [
        {
          "output_type": "execute_result",
          "data": {
            "text/plain": [
              "['I love Data Science ', ' Python']"
            ]
          },
          "metadata": {
            "tags": []
          },
          "execution_count": 4
        }
      ]
    },
    {
      "cell_type": "markdown",
      "metadata": {
        "id": "Vyl69d_FTVH3"
      },
      "source": [
        "**List to String Conversion**"
      ]
    },
    {
      "cell_type": "code",
      "metadata": {
        "id": "OUMo1bqKTY52"
      },
      "source": [
        "mylist = ['Pythons syntax is easy to learn', 'Pythons syntax is very clear']"
      ],
      "execution_count": 5,
      "outputs": []
    },
    {
      "cell_type": "code",
      "metadata": {
        "colab": {
          "base_uri": "https://localhost:8080/"
        },
        "id": "DNJo24fTT0Bm",
        "outputId": "a59a642a-9e25-4f7b-f7fe-2f5b28f53ffe"
      },
      "source": [
        "print(\" & \".join(mylist))"
      ],
      "execution_count": 7,
      "outputs": [
        {
          "output_type": "stream",
          "text": [
            "Pythons syntax is easy to learn & Pythons syntax is very clear\n"
          ],
          "name": "stdout"
        }
      ]
    },
    {
      "cell_type": "markdown",
      "metadata": {
        "id": "rPuqq6ZcUrpO"
      },
      "source": [
        "**Nested List**"
      ]
    },
    {
      "cell_type": "code",
      "metadata": {
        "id": "YggcZTGiUu70"
      },
      "source": [
        "input_list = [['SAS','R'],['Tableau','SQL'],['Python','Java']]"
      ],
      "execution_count": 8,
      "outputs": []
    },
    {
      "cell_type": "code",
      "metadata": {
        "colab": {
          "base_uri": "https://localhost:8080/"
        },
        "id": "2EoS30SPVAmt",
        "outputId": "7718ba02-77c1-4ccd-9c80-7754d784e59a"
      },
      "source": [
        "print(input_list[2][0])"
      ],
      "execution_count": 9,
      "outputs": [
        {
          "output_type": "stream",
          "text": [
            "Python\n"
          ],
          "name": "stdout"
        }
      ]
    },
    {
      "cell_type": "markdown",
      "metadata": {
        "id": "XMOsjt7WVSkV"
      },
      "source": [
        "**It's the time to disco**"
      ]
    },
    {
      "cell_type": "code",
      "metadata": {
        "id": "lwqlnzhFVYj2"
      },
      "source": [
        "t = (\"disco\",12,4.5)"
      ],
      "execution_count": 10,
      "outputs": []
    },
    {
      "cell_type": "code",
      "metadata": {
        "colab": {
          "base_uri": "https://localhost:8080/"
        },
        "id": "QOUVip7RVfhl",
        "outputId": "4c7c2363-e66d-4265-cf41-8e19df066791"
      },
      "source": [
        " print(t[0][2])"
      ],
      "execution_count": 14,
      "outputs": [
        {
          "output_type": "stream",
          "text": [
            "s\n"
          ],
          "name": "stdout"
        }
      ]
    },
    {
      "cell_type": "markdown",
      "metadata": {
        "id": "f6dd9Z_bWPdM"
      },
      "source": [
        "**String Palindrome**"
      ]
    },
    {
      "cell_type": "code",
      "metadata": {
        "colab": {
          "base_uri": "https://localhost:8080/"
        },
        "id": "bomyRsVjWSAW",
        "outputId": "c857ccd8-ba3d-4dee-db93-0cbe9571f742"
      },
      "source": [
        "input_string = input(\"Enter a string \")"
      ],
      "execution_count": 19,
      "outputs": [
        {
          "output_type": "stream",
          "text": [
            "Enter a string radar\n"
          ],
          "name": "stdout"
        }
      ]
    },
    {
      "cell_type": "code",
      "metadata": {
        "colab": {
          "base_uri": "https://localhost:8080/"
        },
        "id": "PQQiSXiRWn_k",
        "outputId": "4eb9e0f3-4391-45c9-d446-de65e08c8e6a"
      },
      "source": [
        "reversed_string = input_string[::-1]\n",
        "if input_string == reversed_string:\n",
        "  print(\"1\")\n",
        "else:\n",
        "  print(\"0\")"
      ],
      "execution_count": 20,
      "outputs": [
        {
          "output_type": "stream",
          "text": [
            "1\n"
          ],
          "name": "stdout"
        }
      ]
    },
    {
      "cell_type": "markdown",
      "metadata": {
        "id": "uNhEywZ7nHGX"
      },
      "source": [
        "**Reverse Words**"
      ]
    },
    {
      "cell_type": "code",
      "metadata": {
        "id": "vluodcDrnOeS"
      },
      "source": [
        "input_string = \"HI HELLO HOW ARE YOU\""
      ],
      "execution_count": 21,
      "outputs": []
    },
    {
      "cell_type": "code",
      "metadata": {
        "colab": {
          "base_uri": "https://localhost:8080/"
        },
        "id": "VSpnM3rNnnDU",
        "outputId": "7074347d-0db4-447b-a2c9-14865445d0e9"
      },
      "source": [
        "print(input_string[::-1])"
      ],
      "execution_count": 29,
      "outputs": [
        {
          "output_type": "stream",
          "text": [
            "UOY ERA WOH OLLEH IH\n"
          ],
          "name": "stdout"
        }
      ]
    },
    {
      "cell_type": "markdown",
      "metadata": {
        "id": "8QsdUajmqOSm"
      },
      "source": [
        "**String Formatting**"
      ]
    },
    {
      "cell_type": "code",
      "metadata": {
        "id": "n1haOdzqqRk1"
      },
      "source": [
        "inp_str1 = \"caloRie Consumed\"\n",
        "inp_str2 = \"data science\"\n",
        "inp_str3 = \"datascience\""
      ],
      "execution_count": 30,
      "outputs": []
    },
    {
      "cell_type": "code",
      "metadata": {
        "colab": {
          "base_uri": "https://localhost:8080/"
        },
        "id": "3DyV2PrOq3Dx",
        "outputId": "8394b39f-5869-4d69-fd38-ba66999ad7f0"
      },
      "source": [
        "result = \"\"\n",
        "for i in inp_str1:         #change the input string it will work accordingly\n",
        "  if i.isupper:\n",
        "    result = result+i.lower()\n",
        "  else:\n",
        "    result = result+i\n",
        "result = result.replace(\" \",\"_\")\n",
        "print(result)"
      ],
      "execution_count": 54,
      "outputs": [
        {
          "output_type": "stream",
          "text": [
            "calorie_consumed\n"
          ],
          "name": "stdout"
        }
      ]
    },
    {
      "cell_type": "markdown",
      "metadata": {
        "id": "aCfH48Nxv22H"
      },
      "source": [
        "**Multiple Choice Questions**"
      ]
    },
    {
      "cell_type": "markdown",
      "metadata": {
        "id": "lacNxBRpwG_X"
      },
      "source": [
        "1. How will you extract ‘love’ from the string S = “I love Python”?\n",
        "\n",
        "Answer : option b & d\n"
      ]
    },
    {
      "cell_type": "code",
      "metadata": {
        "colab": {
          "base_uri": "https://localhost:8080/"
        },
        "id": "QuZue_KFv7JH",
        "outputId": "4cc0beab-90cf-4d1a-f135-a26b1a863e34"
      },
      "source": [
        "S = \"I love Python\"\n",
        "print(S[2:6])\n",
        "print(S[-11:-7])"
      ],
      "execution_count": 62,
      "outputs": [
        {
          "output_type": "stream",
          "text": [
            "love\n",
            "love\n"
          ],
          "name": "stdout"
        }
      ]
    },
    {
      "cell_type": "markdown",
      "metadata": {
        "id": "2w4JtcYmxJ0J"
      },
      "source": [
        "2. What will the output of 3 * 3 ** 3 be? \n",
        "\n",
        "Answer: option c"
      ]
    },
    {
      "cell_type": "code",
      "metadata": {
        "colab": {
          "base_uri": "https://localhost:8080/"
        },
        "id": "w7VJ3awAxNBu",
        "outputId": "29c5920c-6e44-449c-f0ca-7c321f12ed02"
      },
      "source": [
        "print(3*3**3)"
      ],
      "execution_count": 65,
      "outputs": [
        {
          "output_type": "stream",
          "text": [
            "81\n"
          ],
          "name": "stdout"
        }
      ]
    },
    {
      "cell_type": "markdown",
      "metadata": {
        "id": "VvxadnZQyjCw"
      },
      "source": [
        "3. What will the output be of ((500//7) % 5) ** 3? \n",
        "\n",
        "Answer: option a"
      ]
    },
    {
      "cell_type": "code",
      "metadata": {
        "colab": {
          "base_uri": "https://localhost:8080/"
        },
        "id": "Vuls9WZEyqaW",
        "outputId": "cde5a0db-8fa1-4ff1-8a94-cdf2a369f4f1"
      },
      "source": [
        "print(((500//7) % 5) ** 3)"
      ],
      "execution_count": 66,
      "outputs": [
        {
          "output_type": "stream",
          "text": [
            "1\n"
          ],
          "name": "stdout"
        }
      ]
    },
    {
      "cell_type": "markdown",
      "metadata": {
        "id": "WrPdOg6ByyVN"
      },
      "source": [
        "4. If you have a tuple T = (3, 5, 7, 11), what will the output of T.append(9)\n",
        "\n",
        "Answer: Option d"
      ]
    },
    {
      "cell_type": "code",
      "metadata": {
        "colab": {
          "base_uri": "https://localhost:8080/",
          "height": 178
        },
        "id": "q7VE5TVsy3zd",
        "outputId": "9af8e12f-d68e-4327-d630-c25b7873d92d"
      },
      "source": [
        "T = (3, 5, 7, 11)\n",
        "T.append(9)"
      ],
      "execution_count": 67,
      "outputs": [
        {
          "output_type": "error",
          "ename": "AttributeError",
          "evalue": "ignored",
          "traceback": [
            "\u001b[0;31m---------------------------------------------------------------------------\u001b[0m",
            "\u001b[0;31mAttributeError\u001b[0m                            Traceback (most recent call last)",
            "\u001b[0;32m<ipython-input-67-9d8c21e3c639>\u001b[0m in \u001b[0;36m<module>\u001b[0;34m()\u001b[0m\n\u001b[1;32m      1\u001b[0m \u001b[0mT\u001b[0m \u001b[0;34m=\u001b[0m \u001b[0;34m(\u001b[0m\u001b[0;36m3\u001b[0m\u001b[0;34m,\u001b[0m \u001b[0;36m5\u001b[0m\u001b[0;34m,\u001b[0m \u001b[0;36m7\u001b[0m\u001b[0;34m,\u001b[0m \u001b[0;36m11\u001b[0m\u001b[0;34m)\u001b[0m\u001b[0;34m\u001b[0m\u001b[0;34m\u001b[0m\u001b[0m\n\u001b[0;32m----> 2\u001b[0;31m \u001b[0mT\u001b[0m\u001b[0;34m.\u001b[0m\u001b[0mappend\u001b[0m\u001b[0;34m(\u001b[0m\u001b[0;36m9\u001b[0m\u001b[0;34m)\u001b[0m\u001b[0;34m\u001b[0m\u001b[0;34m\u001b[0m\u001b[0m\n\u001b[0m",
            "\u001b[0;31mAttributeError\u001b[0m: 'tuple' object has no attribute 'append'"
          ]
        }
      ]
    },
    {
      "cell_type": "markdown",
      "metadata": {
        "id": "eKzaGu-JzDr-"
      },
      "source": [
        "5. What will the output of the following program be? \n",
        "\n",
        "Note: Question is not complete"
      ]
    },
    {
      "cell_type": "markdown",
      "metadata": {
        "id": "aa_94yEpz689"
      },
      "source": [
        "6. What will the output of the following code be?\n",
        "\n",
        "Answer: Option b"
      ]
    },
    {
      "cell_type": "code",
      "metadata": {
        "colab": {
          "base_uri": "https://localhost:8080/"
        },
        "id": "o9jw-53AzMKV",
        "outputId": "bb905dc1-fe42-49b0-fc40-916b423a872d"
      },
      "source": [
        "l = [32,34,12,27,33]\n",
        "l.append((14,19))\n",
        "print(len(l))"
      ],
      "execution_count": 68,
      "outputs": [
        {
          "output_type": "stream",
          "text": [
            "6\n"
          ],
          "name": "stdout"
        }
      ]
    },
    {
      "cell_type": "markdown",
      "metadata": {
        "id": "x0E2-7fQ0hDO"
      },
      "source": [
        "7. Which of the following statements is incorrect regarding sets in Python? \n",
        "\n",
        "Answer: Option c\n",
        "\n",
        "Sets are immutable"
      ]
    },
    {
      "cell_type": "markdown",
      "metadata": {
        "id": "8XTHwybx4EbB"
      },
      "source": [
        "8. What will the output be of the following code?\n",
        "\n",
        "Answer: Option a"
      ]
    },
    {
      "cell_type": "code",
      "metadata": {
        "colab": {
          "base_uri": "https://localhost:8080/"
        },
        "id": "T2QPsWra3u-z",
        "outputId": "89d0aa1e-0348-4090-d327-73253997bcc8"
      },
      "source": [
        "D = {1:['Raj', 22],2:['Raj', 21],3:['Raj', 40]}\n",
        "for val in D:\n",
        "  print(val)"
      ],
      "execution_count": 69,
      "outputs": [
        {
          "output_type": "stream",
          "text": [
            "1\n",
            "2\n",
            "3\n"
          ],
          "name": "stdout"
        }
      ]
    },
    {
      "cell_type": "markdown",
      "metadata": {
        "id": "BBMLaMNY5DFw"
      },
      "source": [
        "9. What will the ‘comprehension equivalent’ be for the following snippet of code?\n",
        "\n",
        "for sentence in paragraph: \n",
        "  for word in sentence.split(): \n",
        "    single_word_list.append(word) \n",
        "\n",
        "Answer: Option b\n",
        "\n",
        "[word for sentence in paragraph for word in sentence.split()]"
      ]
    },
    {
      "cell_type": "markdown",
      "metadata": {
        "id": "0n4Mo2h86R-q"
      },
      "source": [
        "10.What will be the output of this code?\n",
        "\n",
        "Answer: Option d"
      ]
    },
    {
      "cell_type": "code",
      "metadata": {
        "colab": {
          "base_uri": "https://localhost:8080/"
        },
        "id": "E1TaxbUO6MaX",
        "outputId": "e76cc1f3-1521-460c-890e-098396b1c30c"
      },
      "source": [
        "print(list(range(10, 1, -1)))"
      ],
      "execution_count": 74,
      "outputs": [
        {
          "output_type": "stream",
          "text": [
            "[10, 9, 8, 7, 6, 5, 4, 3, 2]\n"
          ],
          "name": "stdout"
        }
      ]
    }
  ]
}